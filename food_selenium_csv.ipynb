{
 "cells": [
  {
   "cell_type": "code",
   "execution_count": null,
   "metadata": {},
   "outputs": [],
   "source": [
    "#셀레니움 실행\n",
    "\n",
    "import time\n",
    "from selenium import webdriver\n",
    "from selenium.webdriver.common.by import By\n",
    "import pandas as pd\n",
    "import sys\n",
    "\n",
    "keyword = \"혜화역\"\n",
    "url=f\"https://www.mangoplate.com/search/{keyword}\"\n",
    "\n",
    "driver = webdriver.Chrome() \n",
    "driver.get(url)\n",
    "\n",
    "time.sleep(2)\n",
    "\n",
    "# find all the elements with the store titles\n",
    "store_titles_elements = driver.find_elements(By.CSS_SELECTOR, '.title')\n",
    "\n",
    "# extract the titles and store them in a list\n",
    "store_titles = [element.text for element in store_titles_elements]\n",
    "\n",
    "# cut the titles after the 10st index\n",
    "store_titles = store_titles[:11]\n",
    "\n",
    "# create a dataframe from the list of store titles\n",
    "df = pd.DataFrame({'Store Titles': store_titles})\n",
    "\n",
    "# print the dataframe\n",
    "print(df)\n",
    "\n",
    "# close the browser\n",
    "driver.quit()"
   ]
  },
  {
   "cell_type": "code",
   "execution_count": null,
   "metadata": {},
   "outputs": [],
   "source": [
    "#csv로 저장\n",
    "\n",
    "file_name = \"store_titles.csv\"\n",
    "df.to_csv(file_name, index=False, encoding= ' cp949')"
   ]
  }
 ],
 "metadata": {
  "language_info": {
   "name": "python"
  },
  "orig_nbformat": 4
 },
 "nbformat": 4,
 "nbformat_minor": 2
}
