{
 "cells": [
  {
   "cell_type": "code",
   "execution_count": 8,
   "metadata": {},
   "outputs": [
    {
     "name": "stdout",
     "output_type": "stream",
     "text": [
      "    Store Titles Store Ratings\n",
      "0         미영이네식당           4.7\n",
      "1           남양수산           4.6\n",
      "2          천짓골식당           4.4\n",
      "3     중문수두리보말칼국수           4.4\n",
      "4         표선어촌식당           4.4\n",
      "5  제주약수터 (올레시장점)           4.4\n",
      "6       환이네이태리식당           4.4\n",
      "7      큰돈가 (중문점)           4.4\n",
      "8         고기에오르다           4.4\n",
      "9      숙성도 (중문점)           4.3\n"
     ]
    }
   ],
   "source": [
    "import time\n",
    "from selenium import webdriver\n",
    "from selenium.webdriver.common.by import By\n",
    "import pandas as pd\n",
    "import sys\n",
    "\n",
    "# 사용자로부터 검색 키워드 입력 받기\n",
    "keyword = input(\"검색할 키워드를 입력하세요: \")\n",
    "\n",
    "url=f\"https://www.mangoplate.com/search/{keyword}\"\n",
    "driver = webdriver.Chrome() \n",
    "\n",
    "# implicitly_wait 메서드 추가\n",
    "driver.implicitly_wait(10)\n",
    "\n",
    "driver.get(url)\n",
    "\n",
    "# allow some time for images to load\n",
    "time.sleep(5)\n",
    "\n",
    "# find all the elements with the store titles, ratings, and images\n",
    "store_titles_elements = driver.find_elements(By.CSS_SELECTOR, 'h2.title')\n",
    "store_ratings_elements = driver.find_elements(By.CSS_SELECTOR, 'strong.point.search_point') \n",
    "\n",
    "# extract the titles, ratings, and image URLs and store them in lists\n",
    "store_titles = [element.text for element in store_titles_elements]\n",
    "store_ratings = [element.text for element in store_ratings_elements] \n",
    "\n",
    "# cut the titles, ratings, and images after the 10th index\n",
    "store_titles = store_titles[:10]\n",
    "store_ratings = store_ratings[:10]\n",
    "\n",
    "# create a dataframe from the lists of store titles, ratings, and images\n",
    "df = pd.DataFrame({\n",
    "    'Store Titles': store_titles, \n",
    "    'Store Ratings': store_ratings, \n",
    "})\n",
    "\n",
    "# print the dataframe\n",
    "print(df)\n",
    "\n",
    "# close the browser\n",
    "driver.quit()\n"
   ]
  }
 ],
 "metadata": {
  "kernelspec": {
   "display_name": "s1n1",
   "language": "python",
   "name": "python3"
  },
  "language_info": {
   "codemirror_mode": {
    "name": "ipython",
    "version": 3
   },
   "file_extension": ".py",
   "mimetype": "text/x-python",
   "name": "python",
   "nbconvert_exporter": "python",
   "pygments_lexer": "ipython3",
   "version": "3.8.16"
  },
  "orig_nbformat": 4
 },
 "nbformat": 4,
 "nbformat_minor": 2
}
