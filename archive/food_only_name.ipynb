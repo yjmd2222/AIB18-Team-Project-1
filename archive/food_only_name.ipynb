{
 "cells": [
  {
   "cell_type": "code",
   "execution_count": 8,
   "metadata": {},
   "outputs": [
    {
     "name": "stdout",
     "output_type": "stream",
     "text": [
      "      Store Titles\n",
      "0   서귀포 맛집 인기 검색순위\n",
      "1           미영이네식당\n",
      "2             남양수산\n",
      "3            천짓골식당\n",
      "4       중문수두리보말칼국수\n",
      "5           표선어촌식당\n",
      "6    제주약수터 (올레시장점)\n",
      "7         환이네이태리식당\n",
      "8        큰돈가 (중문점)\n",
      "9           고기에오르다\n",
      "10       숙성도 (중문점)\n"
     ]
    }
   ],
   "source": [
    "import time\n",
    "from selenium import webdriver\n",
    "from selenium.webdriver.common.by import By\n",
    "import pandas as pd\n",
    "import sys\n",
    "\n",
    "# 사용자로부터 검색 키워드 입력 받기\n",
    "keyword = input(\"검색할 키워드를 입력하세요: \")\n",
    "\n",
    "url=f\"https://www.mangoplate.com/search/{keyword}\"\n",
    "driver = webdriver.Chrome() \n",
    "\n",
    "# implicitly_wait 메서드 추가\n",
    "driver.implicitly_wait(10)\n",
    "\n",
    "driver.get(url)\n",
    "\n",
    "# find all the elements with the store titles\n",
    "store_titles_elements = driver.find_elements(By.CSS_SELECTOR, '.title')\n",
    "\n",
    "# extract the titles and store them in a list\n",
    "store_titles = [element.text for element in store_titles_elements]\n",
    "\n",
    "# cut the titles after the 10st index\n",
    "store_titles = store_titles[:11]\n",
    "\n",
    "# create a dataframe from the list of store titles\n",
    "df = pd.DataFrame({'Store Titles': store_titles})\n",
    "\n",
    "# print the dataframe\n",
    "print(df)\n",
    "\n",
    "# close the browser\n",
    "driver.quit()"
   ]
  }
 ],
 "metadata": {
  "kernelspec": {
   "display_name": "s1n1",
   "language": "python",
   "name": "python3"
  },
  "language_info": {
   "codemirror_mode": {
    "name": "ipython",
    "version": 3
   },
   "file_extension": ".py",
   "mimetype": "text/x-python",
   "name": "python",
   "nbconvert_exporter": "python",
   "pygments_lexer": "ipython3",
   "version": "3.8.16"
  },
  "orig_nbformat": 4
 },
 "nbformat": 4,
 "nbformat_minor": 2
}
