{
 "cells": [
  {
   "cell_type": "code",
   "execution_count": 1,
   "metadata": {},
   "outputs": [],
   "source": [
    "import sys\n",
    "import os\n",
    "import pandas as pd\n",
    "import numpy as np\n",
    "import sqlite3\n",
    "import time\n",
    "\n",
    "from bs4 import BeautifulSoup\n",
    "from selenium import webdriver\n",
    "from selenium.webdriver.common.by import By\n",
    "from selenium.webdriver.common.keys import Keys\n",
    "from selenium.webdriver.chrome.service import Service\n",
    "from webdriver_manager.chrome import ChromeDriverManager"
   ]
  },
  {
   "cell_type": "code",
   "execution_count": 2,
   "metadata": {},
   "outputs": [],
   "source": [
    "driver = webdriver.Chrome()\n",
    "\n",
    "driver.get('https://www.booking.com/index.ko.html?aid=318615&label=Korean_South_Korea-KO-KR-131246354044-lqHqiW6tNbRkHjsFQdmmhwS637818828162%3Apl%3Ata%3Ap1%3Ap2%3Aac%3Aap%3Aneg%3Afi%3Atidsa-1227182654382%3Alp1009842%3Ali%3Adec%3Adm%3Aag131246354044%3Acmp400536625&sid=1a2cdd5c26bf10a9c3ed2baaa7785c56&')"
   ]
  },
  {
   "cell_type": "code",
   "execution_count": 3,
   "metadata": {},
   "outputs": [
    {
     "ename": "NoSuchElementException",
     "evalue": "Message: no such element: Unable to locate element: {\"method\":\"css selector\",\"selector\":\".Autocomplete_txt__nb6wT\"}\n  (Session info: chrome=115.0.5790.99); For documentation on this error, please visit: https://www.selenium.dev/documentation/webdriver/troubleshooting/errors#no-such-element-exception\nStacktrace:\nBacktrace:\n\tGetHandleVerifier [0x008FA813+48355]\n\t(No symbol) [0x0088C4B1]\n\t(No symbol) [0x00795358]\n\t(No symbol) [0x007C09A5]\n\t(No symbol) [0x007C0B3B]\n\t(No symbol) [0x007EE232]\n\t(No symbol) [0x007DA784]\n\t(No symbol) [0x007EC922]\n\t(No symbol) [0x007DA536]\n\t(No symbol) [0x007B82DC]\n\t(No symbol) [0x007B93DD]\n\tGetHandleVerifier [0x00B5AABD+2539405]\n\tGetHandleVerifier [0x00B9A78F+2800735]\n\tGetHandleVerifier [0x00B9456C+2775612]\n\tGetHandleVerifier [0x009851E0+616112]\n\t(No symbol) [0x00895F8C]\n\t(No symbol) [0x00892328]\n\t(No symbol) [0x0089240B]\n\t(No symbol) [0x00884FF7]\n\tBaseThreadInitThunk [0x778700C9+25]\n\tRtlGetAppContainerNamedObjectPath [0x77B47B1E+286]\n\tRtlGetAppContainerNamedObjectPath [0x77B47AEE+238]\n",
     "output_type": "error",
     "traceback": [
      "\u001b[1;31m---------------------------------------------------------------------------\u001b[0m",
      "\u001b[1;31mNoSuchElementException\u001b[0m                    Traceback (most recent call last)",
      "Cell \u001b[1;32mIn[3], line 7\u001b[0m\n\u001b[0;32m      5\u001b[0m element\u001b[39m.\u001b[39msend_keys(Keys\u001b[39m.\u001b[39mENTER)\n\u001b[0;32m      6\u001b[0m time\u001b[39m.\u001b[39msleep(\u001b[39m4\u001b[39m)\n\u001b[1;32m----> 7\u001b[0m element2 \u001b[39m=\u001b[39mdriver\u001b[39m.\u001b[39;49mfind_element(By\u001b[39m.\u001b[39;49mCLASS_NAME, \u001b[39m'\u001b[39;49m\u001b[39mAutocomplete_txt__nb6wT\u001b[39;49m\u001b[39m'\u001b[39;49m)\n\u001b[0;32m      8\u001b[0m element2\u001b[39m.\u001b[39msend_keys(keyword)\n\u001b[0;32m      9\u001b[0m time\u001b[39m.\u001b[39msleep(\u001b[39m2\u001b[39m)\n",
      "File \u001b[1;32mc:\\Users\\dnq09\\anaconda3\\envs\\5xx\\lib\\site-packages\\selenium\\webdriver\\remote\\webdriver.py:740\u001b[0m, in \u001b[0;36mWebDriver.find_element\u001b[1;34m(self, by, value)\u001b[0m\n\u001b[0;32m    737\u001b[0m     by \u001b[39m=\u001b[39m By\u001b[39m.\u001b[39mCSS_SELECTOR\n\u001b[0;32m    738\u001b[0m     value \u001b[39m=\u001b[39m \u001b[39mf\u001b[39m\u001b[39m'\u001b[39m\u001b[39m[name=\u001b[39m\u001b[39m\"\u001b[39m\u001b[39m{\u001b[39;00mvalue\u001b[39m}\u001b[39;00m\u001b[39m\"\u001b[39m\u001b[39m]\u001b[39m\u001b[39m'\u001b[39m\n\u001b[1;32m--> 740\u001b[0m \u001b[39mreturn\u001b[39;00m \u001b[39mself\u001b[39;49m\u001b[39m.\u001b[39;49mexecute(Command\u001b[39m.\u001b[39;49mFIND_ELEMENT, {\u001b[39m\"\u001b[39;49m\u001b[39musing\u001b[39;49m\u001b[39m\"\u001b[39;49m: by, \u001b[39m\"\u001b[39;49m\u001b[39mvalue\u001b[39;49m\u001b[39m\"\u001b[39;49m: value})[\u001b[39m\"\u001b[39m\u001b[39mvalue\u001b[39m\u001b[39m\"\u001b[39m]\n",
      "File \u001b[1;32mc:\\Users\\dnq09\\anaconda3\\envs\\5xx\\lib\\site-packages\\selenium\\webdriver\\remote\\webdriver.py:346\u001b[0m, in \u001b[0;36mWebDriver.execute\u001b[1;34m(self, driver_command, params)\u001b[0m\n\u001b[0;32m    344\u001b[0m response \u001b[39m=\u001b[39m \u001b[39mself\u001b[39m\u001b[39m.\u001b[39mcommand_executor\u001b[39m.\u001b[39mexecute(driver_command, params)\n\u001b[0;32m    345\u001b[0m \u001b[39mif\u001b[39;00m response:\n\u001b[1;32m--> 346\u001b[0m     \u001b[39mself\u001b[39;49m\u001b[39m.\u001b[39;49merror_handler\u001b[39m.\u001b[39;49mcheck_response(response)\n\u001b[0;32m    347\u001b[0m     response[\u001b[39m\"\u001b[39m\u001b[39mvalue\u001b[39m\u001b[39m\"\u001b[39m] \u001b[39m=\u001b[39m \u001b[39mself\u001b[39m\u001b[39m.\u001b[39m_unwrap_value(response\u001b[39m.\u001b[39mget(\u001b[39m\"\u001b[39m\u001b[39mvalue\u001b[39m\u001b[39m\"\u001b[39m, \u001b[39mNone\u001b[39;00m))\n\u001b[0;32m    348\u001b[0m     \u001b[39mreturn\u001b[39;00m response\n",
      "File \u001b[1;32mc:\\Users\\dnq09\\anaconda3\\envs\\5xx\\lib\\site-packages\\selenium\\webdriver\\remote\\errorhandler.py:245\u001b[0m, in \u001b[0;36mErrorHandler.check_response\u001b[1;34m(self, response)\u001b[0m\n\u001b[0;32m    243\u001b[0m         alert_text \u001b[39m=\u001b[39m value[\u001b[39m\"\u001b[39m\u001b[39malert\u001b[39m\u001b[39m\"\u001b[39m]\u001b[39m.\u001b[39mget(\u001b[39m\"\u001b[39m\u001b[39mtext\u001b[39m\u001b[39m\"\u001b[39m)\n\u001b[0;32m    244\u001b[0m     \u001b[39mraise\u001b[39;00m exception_class(message, screen, stacktrace, alert_text)  \u001b[39m# type: ignore[call-arg]  # mypy is not smart enough here\u001b[39;00m\n\u001b[1;32m--> 245\u001b[0m \u001b[39mraise\u001b[39;00m exception_class(message, screen, stacktrace)\n",
      "\u001b[1;31mNoSuchElementException\u001b[0m: Message: no such element: Unable to locate element: {\"method\":\"css selector\",\"selector\":\".Autocomplete_txt__nb6wT\"}\n  (Session info: chrome=115.0.5790.99); For documentation on this error, please visit: https://www.selenium.dev/documentation/webdriver/troubleshooting/errors#no-such-element-exception\nStacktrace:\nBacktrace:\n\tGetHandleVerifier [0x008FA813+48355]\n\t(No symbol) [0x0088C4B1]\n\t(No symbol) [0x00795358]\n\t(No symbol) [0x007C09A5]\n\t(No symbol) [0x007C0B3B]\n\t(No symbol) [0x007EE232]\n\t(No symbol) [0x007DA784]\n\t(No symbol) [0x007EC922]\n\t(No symbol) [0x007DA536]\n\t(No symbol) [0x007B82DC]\n\t(No symbol) [0x007B93DD]\n\tGetHandleVerifier [0x00B5AABD+2539405]\n\tGetHandleVerifier [0x00B9A78F+2800735]\n\tGetHandleVerifier [0x00B9456C+2775612]\n\tGetHandleVerifier [0x009851E0+616112]\n\t(No symbol) [0x00895F8C]\n\t(No symbol) [0x00892328]\n\t(No symbol) [0x0089240B]\n\t(No symbol) [0x00884FF7]\n\tBaseThreadInitThunk [0x778700C9+25]\n\tRtlGetAppContainerNamedObjectPath [0x77B47B1E+286]\n\tRtlGetAppContainerNamedObjectPath [0x77B47AEE+238]\n"
     ]
    }
   ],
   "source": [
    "keyword = '제주도'\n",
    "\n",
    "element =driver.find_element(By.CLASS_NAME, 'ce45093752')\n",
    "time.sleep(4)\n",
    "element.send_keys(Keys.ENTER)\n",
    "time.sleep(4)\n",
    "element2 =driver.find_element(By.CLASS_NAME, 'Autocomplete_txt__nb6wT')\n",
    "element2.send_keys(keyword)\n",
    "time.sleep(2)\n",
    "driver.find_element(By.CLASS_NAME,\"SearchResults_anchor__luLYP\").click()\n",
    "time.sleep(2)\n",
    "driver.find_element(By.CLASS_NAME,\"SearchBox_search__tLThj\").click()\n",
    "time.sleep(2)"
   ]
  },
  {
   "cell_type": "code",
   "execution_count": 45,
   "metadata": {},
   "outputs": [],
   "source": [
    "name_list = []\n",
    "id_list=[]\n",
    "rating_list = []\n",
    "price_list = []"
   ]
  },
  {
   "cell_type": "code",
   "execution_count": 46,
   "metadata": {},
   "outputs": [],
   "source": [
    "page = 5"
   ]
  },
  {
   "cell_type": "code",
   "execution_count": 62,
   "metadata": {},
   "outputs": [],
   "source": [
    "try:\n",
    "    for i in range(0, page):\n",
    "\n",
    "        hotel_name_raw = driver.find_element(By.CSS_SELECTOR, '#__next > div > div > div > div.Contents_ListComponent__39yRH > div.Contents_result___1Z0_ > ul > li:nth-child(1) > a')\n",
    "        for hotel_name in hotel_name_raw:\n",
    "            i = hotel_name.text\n",
    "            name_list.append(i)\n",
    "        time.sleep(1)\n",
    "\n",
    "        rating_raw = driver.find_element(By.CSS_SELECTOR, '#__next > div > div > div > div.Contents_ListComponent__39yRH > div.Contents_result___1Z0_ > ul > li:nth-child(1) > a')\n",
    "        for rating in rating_raw:\n",
    "            i = rating.text\n",
    "            rating_list.append(i)\n",
    "        time.sleep(1)\n",
    "\n",
    "        price_raw = driver.find_elements(By.CSS_SELECTOR, '#__next > div > div > div > div.Contents_ListComponent__39yRH > div.Contents_result___1Z0_ > ul > li:nth-child(1) > a')\n",
    "        for price in price_raw:\n",
    "            i = price.text.replace('원', '').replace(',', '').replace('~', '')\n",
    "            price_list.append(i)\n",
    "        time.sleep(1)\n",
    "\n",
    "        hotel_ids = driver.find_elements_by_css_selector('.hotel_item')\n",
    "        for hotel_id in hotel_ids:\n",
    "            hotel = hotel_id.get_attribute('data-hotelid')\n",
    "            id_list.append(hotel)\n",
    "        time.sleep(1)\n",
    "\n",
    "        print(len(name_list), len(rating_list), len(price_list), len(id_list))\n",
    "\n",
    "        driver.find_element_by_css_selector('.pagination .next').click()\n",
    "        time.sleep(3)\n",
    "\n",
    "except Exception as e:\n",
    "    print(f\"An error occurred: {e}\")\n",
    "finally:\n",
    "    driver.quit()"
   ]
  }
 ],
 "metadata": {
  "kernelspec": {
   "display_name": "5xx",
   "language": "python",
   "name": "python3"
  },
  "language_info": {
   "codemirror_mode": {
    "name": "ipython",
    "version": 3
   },
   "file_extension": ".py",
   "mimetype": "text/x-python",
   "name": "python",
   "nbconvert_exporter": "python",
   "pygments_lexer": "ipython3",
   "version": "3.8.16"
  },
  "orig_nbformat": 4
 },
 "nbformat": 4,
 "nbformat_minor": 2
}
