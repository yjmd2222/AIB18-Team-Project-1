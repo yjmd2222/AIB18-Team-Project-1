{
 "cells": [
  {
   "cell_type": "code",
   "execution_count": 6,
   "metadata": {},
   "outputs": [],
   "source": [
    "import sys\n",
    "import os\n",
    "import pandas as pd\n",
    "import numpy as np\n",
    "import sqlite3\n",
    "import time\n",
    "\n",
    "from datetime import datetime, timedelta\n",
    "from selenium import webdriver\n",
    "from bs4 import BeautifulSoup\n",
    "from selenium import webdriver\n",
    "from selenium.webdriver.common.by import By\n",
    "from selenium.webdriver.common.keys import Keys\n",
    "from selenium.webdriver.chrome.service import Service\n",
    "from webdriver_manager.chrome import ChromeDriverManager\n",
    "from itertools import combinations"
   ]
  },
  {
   "cell_type": "code",
   "execution_count": 7,
   "metadata": {},
   "outputs": [],
   "source": [
    "driver = webdriver.Chrome()\n",
    "\n",
    "driver.get('https://www.booking.com/index.ko.html?aid=318615&label=Korean_South_Korea-KO-KR-131246354044-lqHqiW6tNbRkHjsFQdmmhwS637818828162%3Apl%3Ata%3Ap1%3Ap2%3Aac%3Aap%3Aneg%3Afi%3Atidsa-1227182654382%3Alp1009842%3Ali%3Adec%3Adm%3Aag131246354044%3Acmp400536625&sid=1a2cdd5c26bf10a9c3ed2baaa7785c56&')"
   ]
  },
  {
   "cell_type": "code",
   "execution_count": 9,
   "metadata": {},
   "outputs": [],
   "source": [
    "\n",
    "def rentcar_crawl(s_date, e_date):\n",
    "    '''\n",
    "    s_date, e_date: datetime\\n\n",
    "    s_time, e_time: str('HH:MM')\n",
    "    '''\n",
    "    driver.get('https://www.booking.com/index.ko.html?aid=318615&label=Korean_South_Korea-KO-KR-131246354044-lqHqiW6tNbRkHjsFQdmmhwS637818828162%3Apl%3Ata%3Ap1%3Ap2%3Aac%3Aap%3Aneg%3Afi%3Atidsa-1227182654382%3Alp1009842%3Ali%3Adec%3Adm%3Aag131246354044%3Acmp400536625&sid=1a2cdd5c26bf10a9c3ed2baaa7785c56&')\n",
    "\n",
    "\n",
    "    # sleep\n",
    "    time.sleep(5)\n",
    "\n",
    "    # 날짜 선택할 selector 클릭\n",
    "    date_select_button = driver.find_element(By.CLASS_NAME, 'd47738b911 e246f833f7 fe211c0731')\n",
    "    date_select_button.click()\n",
    "    time.sleep(0.5)\n",
    "\n",
    "    # 시작일\n",
    "    date_1 = driver.find_element(By.XPATH, f'//*[@data-date=\"{날짜}\"]')\n",
    "    date_1.click()\n",
    "    time.sleep(0.5)\n",
    "\n",
    "    # 종료일\n",
    "    date_2 = driver.find_element(By.XPATH, f'//*[@data-date=\"{날짜}\"]')\n",
    "    date_2.click()\n",
    "    time.sleep(0.5)\n",
    "    \n",
    "    driver.find_element(By.CLASS_NAME,\"fc63351294 a822bdf511 d4b6b7a9e7 cfb238afa1 c938084447 f4605622ad aa11d0d5cd\").click()\n",
    "    time.sleep(0.5)\n",
    "    \n",
    "\n",
    "    # html parse\n",
    "    html = driver.page_source\n",
    "    soup = BeautifulSoup(html, 'html.parser')\n",
    "\n",
    "    # SK렌트카에서 구분지은 블록들\n",
    "    hotels = soup.find_all(class_='d20f4628d0')\n",
    "\n",
    "    for wrap in hotels:\n",
    "            rentcar_sql(wrap, s_date_obj, e_date_obj)\n",
    "\n",
    "def get_date_combinations(start_date, days):\n",
    "    'start_date부터 days일 후까지 가능한 시작/종료일 조합'\n",
    "    date_list = []\n",
    "    for i in range(days):\n",
    "        current_date = start_date + timedelta(days=i)\n",
    "        date_list.append(current_date)\n",
    "    \n",
    "    combinations_list = list(combinations(date_list, 2))\n",
    "    return combinations_list\n",
    "\n",
    "\n",
    "def hotel_sql(wrap, s_date_obj: datetime, e_date_obj: datetime) :\n",
    "    'sqlite3에 저장'\n",
    "    conn = sqlite3.connect('hotel.db')\n",
    "    cursor = conn.cursor()"
   ]
  }
 ],
 "metadata": {
  "kernelspec": {
   "display_name": "5xx",
   "language": "python",
   "name": "python3"
  },
  "language_info": {
   "codemirror_mode": {
    "name": "ipython",
    "version": 3
   },
   "file_extension": ".py",
   "mimetype": "text/x-python",
   "name": "python",
   "nbconvert_exporter": "python",
   "pygments_lexer": "ipython3",
   "version": "3.8.16"
  },
  "orig_nbformat": 4
 },
 "nbformat": 4,
 "nbformat_minor": 2
}
