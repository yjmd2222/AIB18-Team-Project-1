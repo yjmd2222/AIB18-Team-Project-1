{
 "cells": [
  {
   "cell_type": "code",
   "execution_count": 4,
   "metadata": {},
   "outputs": [
    {
     "data": {
      "text/plain": [
       "(211187, 9)"
      ]
     },
     "execution_count": 4,
     "metadata": {},
     "output_type": "execute_result"
    }
   ],
   "source": [
    "import pandas as pd\n",
    "import os\n",
    "\n",
    "parent_dir = 'data/raw/hotels'\n",
    "files = [os.path.join(parent_dir, file) for file in os.listdir(parent_dir)]\n",
    "dfs = [pd.read_csv(file, delimiter=';', encoding='ISO-8859-1') for file in files]\n",
    "df_hotels = pd.concat(dfs)\n",
    "\n",
    "df_hotels.shape"
   ]
  },
  {
   "cell_type": "code",
   "execution_count": 8,
   "metadata": {},
   "outputs": [
    {
     "data": {
      "text/plain": [
       "52579"
      ]
     },
     "execution_count": 8,
     "metadata": {},
     "output_type": "execute_result"
    }
   ],
   "source": [
    "df_hotels.duplicated(df_hotels.columns[:-2]).sum()"
   ]
  },
  {
   "cell_type": "code",
   "execution_count": 10,
   "metadata": {},
   "outputs": [],
   "source": [
    "df_hotels.drop_duplicates(df_hotels.columns[:-2], inplace=True)"
   ]
  },
  {
   "cell_type": "code",
   "execution_count": 11,
   "metadata": {},
   "outputs": [],
   "source": [
    "df_hotels.reset_index(drop=True, inplace=True)"
   ]
  },
  {
   "cell_type": "code",
   "execution_count": 12,
   "metadata": {},
   "outputs": [],
   "source": [
    "def strip_url(url: str):\n",
    "    '호텔 url 도로명 주소 부분까지만 strip'\n",
    "    if isinstance(url, str):\n",
    "        to_return = url[:url.find('html') + 4]\n",
    "    else:\n",
    "        to_return = 'str 아님'\n",
    "    return to_return"
   ]
  },
  {
   "cell_type": "code",
   "execution_count": 13,
   "metadata": {},
   "outputs": [],
   "source": [
    "urls = df_hotels['url'].map(strip_url)\n",
    "urls_unique = urls.unique()"
   ]
  },
  {
   "cell_type": "code",
   "execution_count": 26,
   "metadata": {},
   "outputs": [
    {
     "ename": "ValueError",
     "evalue": "Shape of passed values is (2, 1), indices imply (2, 2)",
     "output_type": "error",
     "traceback": [
      "\u001b[1;31m---------------------------------------------------------------------------\u001b[0m",
      "\u001b[1;31mValueError\u001b[0m                                Traceback (most recent call last)",
      "Cell \u001b[1;32mIn[26], line 11\u001b[0m\n\u001b[0;32m      9\u001b[0m json_str \u001b[39m=\u001b[39m soup\u001b[39m.\u001b[39mfind(\u001b[39m'\u001b[39m\u001b[39mscript\u001b[39m\u001b[39m'\u001b[39m, \u001b[39mtype\u001b[39m\u001b[39m=\u001b[39m\u001b[39m'\u001b[39m\u001b[39mapplication/ld+json\u001b[39m\u001b[39m'\u001b[39m)\u001b[39m.\u001b[39mtext\n\u001b[0;32m     10\u001b[0m json_dict \u001b[39m=\u001b[39m json\u001b[39m.\u001b[39mloads(json_str)\n\u001b[1;32m---> 11\u001b[0m datapoint \u001b[39m=\u001b[39m pd\u001b[39m.\u001b[39;49mDataFrame([json_dict[\u001b[39m'\u001b[39;49m\u001b[39maddress\u001b[39;49m\u001b[39m'\u001b[39;49m][\u001b[39m'\u001b[39;49m\u001b[39maddressLocality\u001b[39;49m\u001b[39m'\u001b[39;49m], json_dict[\u001b[39m'\u001b[39;49m\u001b[39maddress\u001b[39;49m\u001b[39m'\u001b[39;49m][\u001b[39m'\u001b[39;49m\u001b[39mpostalCode\u001b[39;49m\u001b[39m'\u001b[39;49m]], columns\u001b[39m=\u001b[39;49m[\u001b[39m'\u001b[39;49m\u001b[39mlocal_address\u001b[39;49m\u001b[39m'\u001b[39;49m, \u001b[39m'\u001b[39;49m\u001b[39mpostal_code\u001b[39;49m\u001b[39m'\u001b[39;49m])\n\u001b[0;32m     12\u001b[0m \u001b[39mprint\u001b[39m(datapoint\u001b[39m.\u001b[39mvalues)\n\u001b[0;32m     13\u001b[0m data\u001b[39m.\u001b[39mappend(datapoint)\n",
      "File \u001b[1;32mc:\\Users\\jinmo\\anaconda3\\envs\\fakezoom\\Lib\\site-packages\\pandas\\core\\frame.py:798\u001b[0m, in \u001b[0;36mDataFrame.__init__\u001b[1;34m(self, data, index, columns, dtype, copy)\u001b[0m\n\u001b[0;32m    790\u001b[0m         mgr \u001b[39m=\u001b[39m arrays_to_mgr(\n\u001b[0;32m    791\u001b[0m             arrays,\n\u001b[0;32m    792\u001b[0m             columns,\n\u001b[1;32m   (...)\u001b[0m\n\u001b[0;32m    795\u001b[0m             typ\u001b[39m=\u001b[39mmanager,\n\u001b[0;32m    796\u001b[0m         )\n\u001b[0;32m    797\u001b[0m     \u001b[39melse\u001b[39;00m:\n\u001b[1;32m--> 798\u001b[0m         mgr \u001b[39m=\u001b[39m ndarray_to_mgr(\n\u001b[0;32m    799\u001b[0m             data,\n\u001b[0;32m    800\u001b[0m             index,\n\u001b[0;32m    801\u001b[0m             columns,\n\u001b[0;32m    802\u001b[0m             dtype\u001b[39m=\u001b[39;49mdtype,\n\u001b[0;32m    803\u001b[0m             copy\u001b[39m=\u001b[39;49mcopy,\n\u001b[0;32m    804\u001b[0m             typ\u001b[39m=\u001b[39;49mmanager,\n\u001b[0;32m    805\u001b[0m         )\n\u001b[0;32m    806\u001b[0m \u001b[39melse\u001b[39;00m:\n\u001b[0;32m    807\u001b[0m     mgr \u001b[39m=\u001b[39m dict_to_mgr(\n\u001b[0;32m    808\u001b[0m         {},\n\u001b[0;32m    809\u001b[0m         index,\n\u001b[1;32m   (...)\u001b[0m\n\u001b[0;32m    812\u001b[0m         typ\u001b[39m=\u001b[39mmanager,\n\u001b[0;32m    813\u001b[0m     )\n",
      "File \u001b[1;32mc:\\Users\\jinmo\\anaconda3\\envs\\fakezoom\\Lib\\site-packages\\pandas\\core\\internals\\construction.py:337\u001b[0m, in \u001b[0;36mndarray_to_mgr\u001b[1;34m(values, index, columns, dtype, copy, typ)\u001b[0m\n\u001b[0;32m    332\u001b[0m \u001b[39m# _prep_ndarraylike ensures that values.ndim == 2 at this point\u001b[39;00m\n\u001b[0;32m    333\u001b[0m index, columns \u001b[39m=\u001b[39m _get_axes(\n\u001b[0;32m    334\u001b[0m     values\u001b[39m.\u001b[39mshape[\u001b[39m0\u001b[39m], values\u001b[39m.\u001b[39mshape[\u001b[39m1\u001b[39m], index\u001b[39m=\u001b[39mindex, columns\u001b[39m=\u001b[39mcolumns\n\u001b[0;32m    335\u001b[0m )\n\u001b[1;32m--> 337\u001b[0m _check_values_indices_shape_match(values, index, columns)\n\u001b[0;32m    339\u001b[0m \u001b[39mif\u001b[39;00m typ \u001b[39m==\u001b[39m \u001b[39m\"\u001b[39m\u001b[39marray\u001b[39m\u001b[39m\"\u001b[39m:\n\u001b[0;32m    340\u001b[0m     \u001b[39mif\u001b[39;00m \u001b[39missubclass\u001b[39m(values\u001b[39m.\u001b[39mdtype\u001b[39m.\u001b[39mtype, \u001b[39mstr\u001b[39m):\n",
      "File \u001b[1;32mc:\\Users\\jinmo\\anaconda3\\envs\\fakezoom\\Lib\\site-packages\\pandas\\core\\internals\\construction.py:408\u001b[0m, in \u001b[0;36m_check_values_indices_shape_match\u001b[1;34m(values, index, columns)\u001b[0m\n\u001b[0;32m    406\u001b[0m passed \u001b[39m=\u001b[39m values\u001b[39m.\u001b[39mshape\n\u001b[0;32m    407\u001b[0m implied \u001b[39m=\u001b[39m (\u001b[39mlen\u001b[39m(index), \u001b[39mlen\u001b[39m(columns))\n\u001b[1;32m--> 408\u001b[0m \u001b[39mraise\u001b[39;00m \u001b[39mValueError\u001b[39;00m(\u001b[39mf\u001b[39m\u001b[39m\"\u001b[39m\u001b[39mShape of passed values is \u001b[39m\u001b[39m{\u001b[39;00mpassed\u001b[39m}\u001b[39;00m\u001b[39m, indices imply \u001b[39m\u001b[39m{\u001b[39;00mimplied\u001b[39m}\u001b[39;00m\u001b[39m\"\u001b[39m)\n",
      "\u001b[1;31mValueError\u001b[0m: Shape of passed values is (2, 1), indices imply (2, 2)"
     ]
    }
   ],
   "source": [
    "import requests\n",
    "from bs4 import BeautifulSoup\n",
    "import json\n",
    "\n",
    "data = []\n",
    "for idx, url in enumerate(urls):\n",
    "    res = requests.get(url)\n",
    "    soup = BeautifulSoup(res.content, 'html.parser')\n",
    "    json_str = soup.find('script', type='application/ld+json').text\n",
    "    json_dict = json.loads(json_str)\n",
    "    datapoint = pd.DataFrame([[json_dict['address']['addressLocality']], [json_dict['address']['postalCode']]], columns=['local_address', 'postal_code'])\n",
    "    print(datapoint.values)\n",
    "    data.append(datapoint)\n",
    "    if idx == 1:\n",
    "        break\n",
    "\n",
    "addresses = pd.concat(data)"
   ]
  },
  {
   "cell_type": "code",
   "execution_count": 25,
   "metadata": {},
   "outputs": [
    {
     "ename": "TypeError",
     "evalue": "cannot concatenate object of type '<class 'list'>'; only Series and DataFrame objs are valid",
     "output_type": "error",
     "traceback": [
      "\u001b[1;31m---------------------------------------------------------------------------\u001b[0m",
      "\u001b[1;31mTypeError\u001b[0m                                 Traceback (most recent call last)",
      "Cell \u001b[1;32mIn[25], line 1\u001b[0m\n\u001b[1;32m----> 1\u001b[0m pd\u001b[39m.\u001b[39;49mconcat([[\u001b[39m1\u001b[39;49m],[\u001b[39m2\u001b[39;49m]])\n",
      "File \u001b[1;32mc:\\Users\\jinmo\\anaconda3\\envs\\fakezoom\\Lib\\site-packages\\pandas\\core\\reshape\\concat.py:372\u001b[0m, in \u001b[0;36mconcat\u001b[1;34m(objs, axis, join, ignore_index, keys, levels, names, verify_integrity, sort, copy)\u001b[0m\n\u001b[0;32m    369\u001b[0m \u001b[39melif\u001b[39;00m copy \u001b[39mand\u001b[39;00m using_copy_on_write():\n\u001b[0;32m    370\u001b[0m     copy \u001b[39m=\u001b[39m \u001b[39mFalse\u001b[39;00m\n\u001b[1;32m--> 372\u001b[0m op \u001b[39m=\u001b[39m _Concatenator(\n\u001b[0;32m    373\u001b[0m     objs,\n\u001b[0;32m    374\u001b[0m     axis\u001b[39m=\u001b[39;49maxis,\n\u001b[0;32m    375\u001b[0m     ignore_index\u001b[39m=\u001b[39;49mignore_index,\n\u001b[0;32m    376\u001b[0m     join\u001b[39m=\u001b[39;49mjoin,\n\u001b[0;32m    377\u001b[0m     keys\u001b[39m=\u001b[39;49mkeys,\n\u001b[0;32m    378\u001b[0m     levels\u001b[39m=\u001b[39;49mlevels,\n\u001b[0;32m    379\u001b[0m     names\u001b[39m=\u001b[39;49mnames,\n\u001b[0;32m    380\u001b[0m     verify_integrity\u001b[39m=\u001b[39;49mverify_integrity,\n\u001b[0;32m    381\u001b[0m     copy\u001b[39m=\u001b[39;49mcopy,\n\u001b[0;32m    382\u001b[0m     sort\u001b[39m=\u001b[39;49msort,\n\u001b[0;32m    383\u001b[0m )\n\u001b[0;32m    385\u001b[0m \u001b[39mreturn\u001b[39;00m op\u001b[39m.\u001b[39mget_result()\n",
      "File \u001b[1;32mc:\\Users\\jinmo\\anaconda3\\envs\\fakezoom\\Lib\\site-packages\\pandas\\core\\reshape\\concat.py:462\u001b[0m, in \u001b[0;36m_Concatenator.__init__\u001b[1;34m(self, objs, axis, join, keys, levels, names, ignore_index, verify_integrity, copy, sort)\u001b[0m\n\u001b[0;32m    457\u001b[0m     \u001b[39mif\u001b[39;00m \u001b[39mnot\u001b[39;00m \u001b[39misinstance\u001b[39m(obj, (ABCSeries, ABCDataFrame)):\n\u001b[0;32m    458\u001b[0m         msg \u001b[39m=\u001b[39m (\n\u001b[0;32m    459\u001b[0m             \u001b[39mf\u001b[39m\u001b[39m\"\u001b[39m\u001b[39mcannot concatenate object of type \u001b[39m\u001b[39m'\u001b[39m\u001b[39m{\u001b[39;00m\u001b[39mtype\u001b[39m(obj)\u001b[39m}\u001b[39;00m\u001b[39m'\u001b[39m\u001b[39m; \u001b[39m\u001b[39m\"\u001b[39m\n\u001b[0;32m    460\u001b[0m             \u001b[39m\"\u001b[39m\u001b[39monly Series and DataFrame objs are valid\u001b[39m\u001b[39m\"\u001b[39m\n\u001b[0;32m    461\u001b[0m         )\n\u001b[1;32m--> 462\u001b[0m         \u001b[39mraise\u001b[39;00m \u001b[39mTypeError\u001b[39;00m(msg)\n\u001b[0;32m    464\u001b[0m     ndims\u001b[39m.\u001b[39madd(obj\u001b[39m.\u001b[39mndim)\n\u001b[0;32m    466\u001b[0m \u001b[39m# get the sample\u001b[39;00m\n\u001b[0;32m    467\u001b[0m \u001b[39m# want the highest ndim that we have, and must be non-empty\u001b[39;00m\n\u001b[0;32m    468\u001b[0m \u001b[39m# unless all objs are empty\u001b[39;00m\n",
      "\u001b[1;31mTypeError\u001b[0m: cannot concatenate object of type '<class 'list'>'; only Series and DataFrame objs are valid"
     ]
    }
   ],
   "source": [
    "pd.concat([[1],[2]])"
   ]
  },
  {
   "cell_type": "code",
   "execution_count": 26,
   "metadata": {},
   "outputs": [
    {
     "data": {
      "text/plain": [
       "{'priceRange': '다가오는 날짜의 숙박 요금: 1박 기준 ₩79,000부터 (최저가 맞춤)',\n",
       " 'aggregateRating': {'@type': 'AggregateRating',\n",
       "  'bestRating': 10,\n",
       "  'reviewCount': 35,\n",
       "  'ratingValue': 7.8},\n",
       " 'address': {'addressLocality': '조천읍 일주동로 1415',\n",
       "  'addressCountry': '대한민국',\n",
       "  'addressRegion': '제주도',\n",
       "  '@type': 'PostalAddress',\n",
       "  'postalCode': '63339',\n",
       "  'streetAddress': '제주, 조천읍 일주동로 1415'},\n",
       " 'description': '제주 필 하우스는 제주시 함덕 해수욕장에서 차로 단 3분 거리에 있습니다. 호텔은 자체 취사형 객실, 무료 Wi-Fi 및 공용 주차장을 갖추고 있습니다. 에어컨과 난방 시설을 갖춘 스튜디오에는 테라스, TV 및 스토브, 냉장고, 전기 주전자가 구비된 주방이 마련되어 있습니다.',\n",
       " 'image': 'https://cf.bstatic.com/xdata/images/hotel/max500/304419275.jpg?k=8c9c7dd2f7586bcb24306942bf988965da64d2784f58eb384bd430f8a639a3d4&o=&hp=1',\n",
       " '@context': 'http://schema.org',\n",
       " 'name': '제주 필 하우스',\n",
       " '@type': 'Hotel',\n",
       " 'url': 'https://www.booking.com/hotel/kr/jeju-feel-house.ko.html',\n",
       " 'hasMap': 'https://maps.googleapis.com/maps/api/staticmap?sensor=false&markers=color:blue%7c33.5450610,126.6864395&size=1600x1200&zoom=15&center=33.5450610,126.6864395&client=gme-booking&channel=booking-frontend&signature=4ESwuW-BoSzUCAP97XV3qSFWzrI='}"
      ]
     },
     "execution_count": 26,
     "metadata": {},
     "output_type": "execute_result"
    }
   ],
   "source": [
    "import json\n",
    "\n",
    "json_dict = json.loads(json_str)\n",
    "json_dict"
   ]
  },
  {
   "cell_type": "code",
   "execution_count": 27,
   "metadata": {},
   "outputs": [
    {
     "data": {
      "text/plain": [
       "{'addressLocality': '조천읍 일주동로 1415',\n",
       " 'addressCountry': '대한민국',\n",
       " 'addressRegion': '제주도',\n",
       " '@type': 'PostalAddress',\n",
       " 'postalCode': '63339',\n",
       " 'streetAddress': '제주, 조천읍 일주동로 1415'}"
      ]
     },
     "execution_count": 27,
     "metadata": {},
     "output_type": "execute_result"
    }
   ],
   "source": [
    "json_dict['address']"
   ]
  },
  {
   "cell_type": "code",
   "execution_count": 3,
   "metadata": {},
   "outputs": [],
   "source": [
    "def strip_url(url: str):\n",
    "    if isinstance(url, str):\n",
    "        to_return = url[:url.find('html') + 4]\n",
    "    else:\n",
    "        to_return = 'str 아님'\n",
    "    return to_return\n",
    "\n",
    "stripped_urls = df['url'].map(strip_url)"
   ]
  },
  {
   "cell_type": "code",
   "execution_count": 4,
   "metadata": {},
   "outputs": [
    {
     "data": {
      "text/plain": [
       "231"
      ]
     },
     "execution_count": 4,
     "metadata": {},
     "output_type": "execute_result"
    }
   ],
   "source": [
    "stripped_urls.nunique()"
   ]
  },
  {
   "cell_type": "code",
   "execution_count": 6,
   "metadata": {},
   "outputs": [
    {
     "data": {
      "text/plain": [
       "'https://www.booking.com/hotel/kr/playce-camp-jeju.ko.html'"
      ]
     },
     "execution_count": 6,
     "metadata": {},
     "output_type": "execute_result"
    }
   ],
   "source": [
    "stripped_urls[0]"
   ]
  },
  {
   "cell_type": "code",
   "execution_count": null,
   "metadata": {},
   "outputs": [],
   "source": [
    "from selenium import webdriver\n"
   ]
  }
 ],
 "metadata": {
  "kernelspec": {
   "display_name": "fakezoom",
   "language": "python",
   "name": "python3"
  },
  "language_info": {
   "codemirror_mode": {
    "name": "ipython",
    "version": 3
   },
   "file_extension": ".py",
   "mimetype": "text/x-python",
   "name": "python",
   "nbconvert_exporter": "python",
   "pygments_lexer": "ipython3",
   "version": "3.11.3"
  },
  "orig_nbformat": 4
 },
 "nbformat": 4,
 "nbformat_minor": 2
}
