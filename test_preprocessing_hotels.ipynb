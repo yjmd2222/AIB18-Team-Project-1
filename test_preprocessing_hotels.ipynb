{
 "cells": [
  {
   "cell_type": "code",
   "execution_count": 7,
   "metadata": {},
   "outputs": [
    {
     "data": {
      "text/plain": [
       "(42481, 7)"
      ]
     },
     "execution_count": 7,
     "metadata": {},
     "output_type": "execute_result"
    }
   ],
   "source": [
    "import pandas as pd\n",
    "df = pd.read_csv('hotels.csv', delimiter=';', encoding='ISO-8859-1')\n",
    "\n",
    "df.shape"
   ]
  },
  {
   "cell_type": "code",
   "execution_count": 11,
   "metadata": {},
   "outputs": [
    {
     "data": {
      "text/plain": [
       "url           31789\n",
       "hotel_name      177\n",
       "region           19\n",
       "ratings          31\n",
       "price         11621\n",
       "start_date       29\n",
       "end_date         29\n",
       "dtype: int64"
      ]
     },
     "execution_count": 11,
     "metadata": {},
     "output_type": "execute_result"
    }
   ],
   "source": [
    "df.nunique()"
   ]
  },
  {
   "cell_type": "code",
   "execution_count": 30,
   "metadata": {},
   "outputs": [
    {
     "name": "stdout",
     "output_type": "stream",
     "text": [
      "https://www.booking.com/hotel/kr/playce-camp-jeju.ko.html?label=gen173nr-1FCAQoggJCEHNlYXJjaF_soJzso7zrj4RIF1gEaH2IAQGYARe4ARfIAQzYAQHoAQH4AQOIAgGoAgO4At_456UGwAIB0gIkNjZjMzFmMjktN2Q2NC00ZGI3LThlZDAtNTkzYWUzZWExNzNh2AIF4AIB&sid=14dedff24ad71b3922a2f34073ee4036&aid=304142&ucfs=1&arphpl=1&checkin=2023-07-23&checkout=2023-07-29&dest_id=4170&dest_type=region&group_adults=2&req_adults=2&no_rooms=1&group_children=0&req_children=0&hpos=1&hapos=1&sr_order=popularity&srpvid=db057dea395601b8&srepoch=1689962070&all_sr_blocks=231321101_0_2_0_0&highlighted_blocks=231321101_0_2_0_0&matching_block_id=231321101_0_2_0_0&sr_pri_blocks=231321101_0_2_0_0__30807822&from_sustainable_property_sr=1&from=searchresults#hotelTmpl\n",
      "https://www.booking.com/hotel/kr/the-suites-jeju.ko.html?label=gen173nr-1FCAQoggJCEHNlYXJjaF_soJzso7zrj4RIF1gEaH2IAQGYARe4ARfIAQzYAQHoAQH4AQOIAgGoAgO4At_456UGwAIB0gIkNjZjMzFmMjktN2Q2NC00ZGI3LThlZDAtNTkzYWUzZWExNzNh2AIF4AIB&sid=14dedff24ad71b3922a2f34073ee4036&aid=304142&ucfs=1&arphpl=1&checkin=2023-07-23&checkout=2023-07-29&dest_id=4170&dest_type=region&group_adults=2&req_adults=2&no_rooms=1&group_children=0&req_children=0&hpos=2&hapos=2&sr_order=popularity&srpvid=db057dea395601b8&srepoch=1689962070&all_sr_blocks=24534403_269313902_0_2_0&highlighted_blocks=24534403_269313902_0_2_0&matching_block_id=24534403_269313902_0_2_0&sr_pri_blocks=24534403_269313902_0_2_0__111911800&from_sustainable_property_sr=1&from=searchresults#hotelTmpl\n",
      "https://www.booking.com/hotel/kr/grim-resort.ko.html?label=gen173nr-1FCAQoggJCEHNlYXJjaF_soJzso7zrj4RIF1gEaH2IAQGYARe4ARfIAQzYAQHoAQH4AQOIAgGoAgO4At_456UGwAIB0gIkNjZjMzFmMjktN2Q2NC00ZGI3LThlZDAtNTkzYWUzZWExNzNh2AIF4AIB&sid=14dedff24ad71b3922a2f34073ee4036&aid=304142&ucfs=1&arphpl=1&checkin=2023-07-23&checkout=2023-07-29&dest_id=4170&dest_type=region&group_adults=2&req_adults=2&no_rooms=1&group_children=0&req_children=0&hpos=3&hapos=3&sr_order=popularity&srpvid=db057dea395601b8&srepoch=1689962070&all_sr_blocks=223877912_332195106_2_0_0&highlighted_blocks=223877912_332195106_2_0_0&matching_block_id=223877912_332195106_2_0_0&sr_pri_blocks=223877912_332195106_2_0_0__38700000&from=searchresults#hotelTmpl\n",
      "https://www.booking.com/hotel/kr/jeju-feel-house.ko.html?label=gen173nr-1FCAQoggJCEHNlYXJjaF_soJzso7zrj4RIF1gEaH2IAQGYARe4ARfIAQzYAQHoAQH4AQOIAgGoAgO4At_456UGwAIB0gIkNjZjMzFmMjktN2Q2NC00ZGI3LThlZDAtNTkzYWUzZWExNzNh2AIF4AIB&sid=14dedff24ad71b3922a2f34073ee4036&aid=304142&ucfs=1&arphpl=1&checkin=2023-07-23&checkout=2023-07-29&dest_id=4170&dest_type=region&group_adults=2&req_adults=2&no_rooms=1&group_children=0&req_children=0&hpos=4&hapos=4&sr_order=popularity&srpvid=db057dea395601b8&srepoch=1689962070&all_sr_blocks=77839501_192031101_2_0_0&highlighted_blocks=77839501_192031101_2_0_0&matching_block_id=77839501_192031101_2_0_0&sr_pri_blocks=77839501_192031101_2_0_0__32508000&from_sustainable_property_sr=1&from=searchresults#hotelTmpl\n",
      "https://www.booking.com/hotel/kr/kenny-story-inn.ko.html?label=gen173nr-1FCAQoggJCEHNlYXJjaF_soJzso7zrj4RIF1gEaH2IAQGYARe4ARfIAQzYAQHoAQH4AQOIAgGoAgO4At_456UGwAIB0gIkNjZjMzFmMjktN2Q2NC00ZGI3LThlZDAtNTkzYWUzZWExNzNh2AIF4AIB&sid=14dedff24ad71b3922a2f34073ee4036&aid=304142&ucfs=1&arphpl=1&checkin=2023-07-23&checkout=2023-07-29&dest_id=4170&dest_type=region&group_adults=2&req_adults=2&no_rooms=1&group_children=0&req_children=0&hpos=5&hapos=5&sr_order=popularity&srpvid=db057dea395601b8&srepoch=1689962070&all_sr_blocks=331763707_368291332_2_2_0&highlighted_blocks=331763707_368291332_2_2_0&matching_block_id=331763707_368291332_2_2_0&sr_pri_blocks=331763707_368291332_2_2_0__22150160&from_sustainable_property_sr=1&from=searchresults#hotelTmpl\n",
      "https://www.booking.com/hotel/kr/tamara-jeju.ko.html?label=gen173nr-1FCAQoggJCEHNlYXJjaF_soJzso7zrj4RIF1gEaH2IAQGYARe4ARfIAQzYAQHoAQH4AQOIAgGoAgO4At_456UGwAIB0gIkNjZjMzFmMjktN2Q2NC00ZGI3LThlZDAtNTkzYWUzZWExNzNh2AIF4AIB&sid=14dedff24ad71b3922a2f34073ee4036&aid=304142&ucfs=1&arphpl=1&checkin=2023-07-23&checkout=2023-07-29&dest_id=4170&dest_type=region&group_adults=2&req_adults=2&no_rooms=1&group_children=0&req_children=0&hpos=6&hapos=6&sr_order=popularity&srpvid=db057dea395601b8&srepoch=1689962070&all_sr_blocks=678584902_279937322_2_2_0&highlighted_blocks=678584902_279937322_2_2_0&matching_block_id=678584902_279937322_2_2_0&sr_pri_blocks=678584902_279937322_2_2_0__24000000&from=searchresults#hotelTmpl\n"
     ]
    },
    {
     "data": {
      "text/plain": [
       "[None, None, None, None, None, None]"
      ]
     },
     "execution_count": 30,
     "metadata": {},
     "output_type": "execute_result"
    }
   ],
   "source": [
    "[print(i) for i in df.loc[:5,'url']]"
   ]
  },
  {
   "cell_type": "code",
   "execution_count": 13,
   "metadata": {},
   "outputs": [],
   "source": [
    "import requests\n",
    "from bs4 import BeautifulSoup\n",
    "\n",
    "res = requests.get('https://www.booking.com/hotel/kr/playce-camp-jeju.ko.html')"
   ]
  },
  {
   "cell_type": "code",
   "execution_count": 25,
   "metadata": {},
   "outputs": [],
   "source": [
    "soup = BeautifulSoup(res.content, 'html.parser')\n",
    "json_str = soup.find('script', type='application/ld+json').text"
   ]
  },
  {
   "cell_type": "code",
   "execution_count": 26,
   "metadata": {},
   "outputs": [
    {
     "data": {
      "text/plain": [
       "{'priceRange': '다가오는 날짜의 숙박 요금: 1박 기준 ₩79,000부터 (최저가 맞춤)',\n",
       " 'aggregateRating': {'@type': 'AggregateRating',\n",
       "  'bestRating': 10,\n",
       "  'reviewCount': 35,\n",
       "  'ratingValue': 7.8},\n",
       " 'address': {'addressLocality': '조천읍 일주동로 1415',\n",
       "  'addressCountry': '대한민국',\n",
       "  'addressRegion': '제주도',\n",
       "  '@type': 'PostalAddress',\n",
       "  'postalCode': '63339',\n",
       "  'streetAddress': '제주, 조천읍 일주동로 1415'},\n",
       " 'description': '제주 필 하우스는 제주시 함덕 해수욕장에서 차로 단 3분 거리에 있습니다. 호텔은 자체 취사형 객실, 무료 Wi-Fi 및 공용 주차장을 갖추고 있습니다. 에어컨과 난방 시설을 갖춘 스튜디오에는 테라스, TV 및 스토브, 냉장고, 전기 주전자가 구비된 주방이 마련되어 있습니다.',\n",
       " 'image': 'https://cf.bstatic.com/xdata/images/hotel/max500/304419275.jpg?k=8c9c7dd2f7586bcb24306942bf988965da64d2784f58eb384bd430f8a639a3d4&o=&hp=1',\n",
       " '@context': 'http://schema.org',\n",
       " 'name': '제주 필 하우스',\n",
       " '@type': 'Hotel',\n",
       " 'url': 'https://www.booking.com/hotel/kr/jeju-feel-house.ko.html',\n",
       " 'hasMap': 'https://maps.googleapis.com/maps/api/staticmap?sensor=false&markers=color:blue%7c33.5450610,126.6864395&size=1600x1200&zoom=15&center=33.5450610,126.6864395&client=gme-booking&channel=booking-frontend&signature=4ESwuW-BoSzUCAP97XV3qSFWzrI='}"
      ]
     },
     "execution_count": 26,
     "metadata": {},
     "output_type": "execute_result"
    }
   ],
   "source": [
    "import json\n",
    "\n",
    "json_dict = json.loads(json_str)\n",
    "json_dict"
   ]
  },
  {
   "cell_type": "code",
   "execution_count": 27,
   "metadata": {},
   "outputs": [
    {
     "data": {
      "text/plain": [
       "{'addressLocality': '조천읍 일주동로 1415',\n",
       " 'addressCountry': '대한민국',\n",
       " 'addressRegion': '제주도',\n",
       " '@type': 'PostalAddress',\n",
       " 'postalCode': '63339',\n",
       " 'streetAddress': '제주, 조천읍 일주동로 1415'}"
      ]
     },
     "execution_count": 27,
     "metadata": {},
     "output_type": "execute_result"
    }
   ],
   "source": [
    "json_dict['address']"
   ]
  },
  {
   "cell_type": "code",
   "execution_count": 36,
   "metadata": {},
   "outputs": [],
   "source": [
    "def strip_url(url: str):\n",
    "    if isinstance(url, str):\n",
    "        to_return = url[:url.find('html') + 4]\n",
    "    else:\n",
    "        to_return = 'str 아님'\n",
    "    return to_return\n",
    "\n",
    "stripped_urls = df['url'].map(strip_url)"
   ]
  },
  {
   "cell_type": "code",
   "execution_count": 37,
   "metadata": {},
   "outputs": [
    {
     "data": {
      "text/plain": [
       "192"
      ]
     },
     "execution_count": 37,
     "metadata": {},
     "output_type": "execute_result"
    }
   ],
   "source": [
    "stripped_urls.nunique()"
   ]
  }
 ],
 "metadata": {
  "kernelspec": {
   "display_name": "fakezoom",
   "language": "python",
   "name": "python3"
  },
  "language_info": {
   "codemirror_mode": {
    "name": "ipython",
    "version": 3
   },
   "file_extension": ".py",
   "mimetype": "text/x-python",
   "name": "python",
   "nbconvert_exporter": "python",
   "pygments_lexer": "ipython3",
   "version": "3.11.3"
  },
  "orig_nbformat": 4
 },
 "nbformat": 4,
 "nbformat_minor": 2
}
