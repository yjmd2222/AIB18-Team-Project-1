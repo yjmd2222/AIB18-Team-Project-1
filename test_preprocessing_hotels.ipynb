{
 "cells": [
  {
   "cell_type": "code",
   "execution_count": 2,
   "metadata": {},
   "outputs": [
    {
     "data": {
      "text/plain": [
       "(52592, 8)"
      ]
     },
     "execution_count": 2,
     "metadata": {},
     "output_type": "execute_result"
    }
   ],
   "source": [
    "import pandas as pd\n",
    "file_path = 'data/raw/raw_hotels.csv'\n",
    "df = pd.read_csv(file_path, delimiter=';', encoding='ISO-8859-1')\n",
    "\n",
    "df.shape"
   ]
  },
  {
   "cell_type": "code",
   "execution_count": 11,
   "metadata": {},
   "outputs": [
    {
     "data": {
      "text/plain": [
       "url           31789\n",
       "hotel_name      177\n",
       "region           19\n",
       "ratings          31\n",
       "price         11621\n",
       "start_date       29\n",
       "end_date         29\n",
       "dtype: int64"
      ]
     },
     "execution_count": 11,
     "metadata": {},
     "output_type": "execute_result"
    }
   ],
   "source": [
    "df.nunique()"
   ]
  },
  {
   "cell_type": "code",
   "execution_count": 13,
   "metadata": {},
   "outputs": [],
   "source": [
    "import requests\n",
    "from bs4 import BeautifulSoup\n",
    "\n",
    "res = requests.get('https://www.booking.com/hotel/kr/playce-camp-jeju.ko.html')"
   ]
  },
  {
   "cell_type": "code",
   "execution_count": 25,
   "metadata": {},
   "outputs": [],
   "source": [
    "soup = BeautifulSoup(res.content, 'html.parser')\n",
    "json_str = soup.find('script', type='application/ld+json').text"
   ]
  },
  {
   "cell_type": "code",
   "execution_count": 26,
   "metadata": {},
   "outputs": [
    {
     "data": {
      "text/plain": [
       "{'priceRange': '다가오는 날짜의 숙박 요금: 1박 기준 ₩79,000부터 (최저가 맞춤)',\n",
       " 'aggregateRating': {'@type': 'AggregateRating',\n",
       "  'bestRating': 10,\n",
       "  'reviewCount': 35,\n",
       "  'ratingValue': 7.8},\n",
       " 'address': {'addressLocality': '조천읍 일주동로 1415',\n",
       "  'addressCountry': '대한민국',\n",
       "  'addressRegion': '제주도',\n",
       "  '@type': 'PostalAddress',\n",
       "  'postalCode': '63339',\n",
       "  'streetAddress': '제주, 조천읍 일주동로 1415'},\n",
       " 'description': '제주 필 하우스는 제주시 함덕 해수욕장에서 차로 단 3분 거리에 있습니다. 호텔은 자체 취사형 객실, 무료 Wi-Fi 및 공용 주차장을 갖추고 있습니다. 에어컨과 난방 시설을 갖춘 스튜디오에는 테라스, TV 및 스토브, 냉장고, 전기 주전자가 구비된 주방이 마련되어 있습니다.',\n",
       " 'image': 'https://cf.bstatic.com/xdata/images/hotel/max500/304419275.jpg?k=8c9c7dd2f7586bcb24306942bf988965da64d2784f58eb384bd430f8a639a3d4&o=&hp=1',\n",
       " '@context': 'http://schema.org',\n",
       " 'name': '제주 필 하우스',\n",
       " '@type': 'Hotel',\n",
       " 'url': 'https://www.booking.com/hotel/kr/jeju-feel-house.ko.html',\n",
       " 'hasMap': 'https://maps.googleapis.com/maps/api/staticmap?sensor=false&markers=color:blue%7c33.5450610,126.6864395&size=1600x1200&zoom=15&center=33.5450610,126.6864395&client=gme-booking&channel=booking-frontend&signature=4ESwuW-BoSzUCAP97XV3qSFWzrI='}"
      ]
     },
     "execution_count": 26,
     "metadata": {},
     "output_type": "execute_result"
    }
   ],
   "source": [
    "import json\n",
    "\n",
    "json_dict = json.loads(json_str)\n",
    "json_dict"
   ]
  },
  {
   "cell_type": "code",
   "execution_count": 27,
   "metadata": {},
   "outputs": [
    {
     "data": {
      "text/plain": [
       "{'addressLocality': '조천읍 일주동로 1415',\n",
       " 'addressCountry': '대한민국',\n",
       " 'addressRegion': '제주도',\n",
       " '@type': 'PostalAddress',\n",
       " 'postalCode': '63339',\n",
       " 'streetAddress': '제주, 조천읍 일주동로 1415'}"
      ]
     },
     "execution_count": 27,
     "metadata": {},
     "output_type": "execute_result"
    }
   ],
   "source": [
    "json_dict['address']"
   ]
  },
  {
   "cell_type": "code",
   "execution_count": 3,
   "metadata": {},
   "outputs": [],
   "source": [
    "def strip_url(url: str):\n",
    "    if isinstance(url, str):\n",
    "        to_return = url[:url.find('html') + 4]\n",
    "    else:\n",
    "        to_return = 'str 아님'\n",
    "    return to_return\n",
    "\n",
    "stripped_urls = df['url'].map(strip_url)"
   ]
  },
  {
   "cell_type": "code",
   "execution_count": 4,
   "metadata": {},
   "outputs": [
    {
     "data": {
      "text/plain": [
       "231"
      ]
     },
     "execution_count": 4,
     "metadata": {},
     "output_type": "execute_result"
    }
   ],
   "source": [
    "stripped_urls.nunique()"
   ]
  },
  {
   "cell_type": "code",
   "execution_count": 6,
   "metadata": {},
   "outputs": [
    {
     "data": {
      "text/plain": [
       "'https://www.booking.com/hotel/kr/playce-camp-jeju.ko.html'"
      ]
     },
     "execution_count": 6,
     "metadata": {},
     "output_type": "execute_result"
    }
   ],
   "source": [
    "stripped_urls[0]"
   ]
  },
  {
   "cell_type": "code",
   "execution_count": null,
   "metadata": {},
   "outputs": [],
   "source": [
    "from selenium import webdriver\n"
   ]
  }
 ],
 "metadata": {
  "kernelspec": {
   "display_name": "fakezoom",
   "language": "python",
   "name": "python3"
  },
  "language_info": {
   "codemirror_mode": {
    "name": "ipython",
    "version": 3
   },
   "file_extension": ".py",
   "mimetype": "text/x-python",
   "name": "python",
   "nbconvert_exporter": "python",
   "pygments_lexer": "ipython3",
   "version": "3.11.3"
  },
  "orig_nbformat": 4
 },
 "nbformat": 4,
 "nbformat_minor": 2
}
