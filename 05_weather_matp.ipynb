{
 "cells": [
  {
   "cell_type": "code",
   "execution_count": null,
   "metadata": {},
   "outputs": [],
   "source": [
    "#import matplotlib.pyplot as plt\n",
    "import pandas as pd\n",
    "\n",
    "df = pd.read_csv('weather_DB.csv')\n",
    "\n"
   ]
  },
  {
   "cell_type": "code",
   "execution_count": null,
   "metadata": {},
   "outputs": [],
   "source": [
    "def load_weather_data(selected_date):\n",
    "    # Filter the DataFrame to get the weather data for the selected date\n",
    "    selected_data = df[df['Day'] == selected_date]\n",
    "\n",
    "    if selected_data.empty:\n",
    "        print(f\"No weather data found for selected date: {selected_date}\")\n",
    "        return None\n",
    "\n",
    "    return selected_data\n",
    "\n"
   ]
  },
  {
   "cell_type": "code",
   "execution_count": null,
   "metadata": {},
   "outputs": [],
   "source": [
    "def main():\n",
    "    selected_dates = []\n",
    "\n",
    "    while True:\n",
    "        # Get user input for the start date\n",
    "        start_date = input(\"Enter the start date (1 to 31) to load weather data (or type 'done' to finish): \")\n",
    "\n",
    "        # Check if the user wants to stop entering dates\n",
    "        if start_date.lower() == 'done':\n",
    "            break\n",
    "\n",
    "        # Convert the input to an integer (if possible)\n",
    "        try:\n",
    "            start_date = int(start_date)\n",
    "        except ValueError:\n",
    "            print(\"Invalid input. Please enter a valid date (1 to 31) or type 'done' to finish.\")\n",
    "            continue\n",
    "\n",
    "        # Check if the selected date is within the valid range (1 to 31)\n",
    "        if start_date < 1 or start_date > 31:\n",
    "            print(\"Invalid date. Please enter a date between 1 and 31.\")\n",
    "            continue\n",
    "\n",
    "        # Get user input for the end date\n",
    "        end_date = input(\"Enter the end date (1 to 31) to load weather data: \")\n",
    "\n",
    "        # Convert the input to an integer (if possible)\n",
    "        try:\n",
    "            end_date = int(end_date)\n",
    "        except ValueError:\n",
    "            print(\"Invalid input. Please enter a valid date (1 to 31) or type 'done' to finish.\")\n",
    "            continue\n",
    "\n",
    "        # Check if the selected end date is within the valid range (1 to 31)\n",
    "        if end_date < 1 or end_date > 31:\n",
    "            print(\"Invalid date. Please enter a date between 1 and 31.\")\n",
    "            continue\n",
    "\n",
    "        # Check if the end date is greater than or equal to the start date\n",
    "        if end_date < start_date:\n",
    "            print(\"End date should be greater than or equal to the start date.\")\n",
    "            continue\n",
    "\n",
    "        # Generate the list of selected dates within the date range\n",
    "        selected_dates.extend(range(start_date, end_date + 1))\n",
    "\n",
    "    # Load weather data for the selected dates\n",
    "    for date in selected_dates:\n",
    "        weather_data_for_selected_date = load_weather_data(date)\n",
    "        if weather_data_for_selected_date is not None:\n",
    "            print(f\"Weather data for date: {date}\")\n",
    "            print(weather_data_for_selected_date.to_string(index=False, col_space=15, justify='left'))  \n",
    "        print(\"-\" * 80)\n",
    "\n",
    "if __name__ == \"__main__\":\n",
    "    main()\n"
   ]
  },
  {
   "cell_type": "code",
   "execution_count": null,
   "metadata": {},
   "outputs": [],
   "source": []
  },
  {
   "cell_type": "code",
   "execution_count": null,
   "metadata": {},
   "outputs": [],
   "source": []
  }
 ],
 "metadata": {
  "language_info": {
   "name": "python"
  },
  "orig_nbformat": 4
 },
 "nbformat": 4,
 "nbformat_minor": 2
}
